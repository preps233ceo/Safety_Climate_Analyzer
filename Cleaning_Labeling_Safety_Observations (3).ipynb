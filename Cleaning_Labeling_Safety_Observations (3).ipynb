{
 "cells": [
  {
   "cell_type": "markdown",
   "id": "15405e75",
   "metadata": {},
   "source": [
    "# Data Cleaning and Labeling for Safety Observations"
   ]
  },
  {
   "cell_type": "markdown",
   "id": "3d58c00b",
   "metadata": {},
   "source": [
    "This notebook cleans the observation data and labels each entry as 'Safe' or 'Unsafe' based on the type of reporting."
   ]
  },
  {
   "cell_type": "code",
   "execution_count": null,
   "id": "d840b0e7",
   "metadata": {},
   "outputs": [],
   "source": [
    "import pandas as pd\n",
    "\n",
    "# Load Excel\n",
    "file_path = \"Observations_Raw.xlsx\"\n",
    "excel_data = pd.ExcelFile(file_path)\n",
    "df = excel_data.parse('ACTIVE Cards')\n",
    "\n",
    "# Clean column names\n",
    "df.columns = [col.strip().replace('\\n', ' ').replace('\\r', ' ').replace('  ', ' ') for col in df.columns]\n",
    "\n",
    "# Keep only necessary columns\n",
    "df = df[['Type of reporting', 'Observation']]\n",
    "\n",
    "# Drop duplicate observations\n",
    "df = df.drop_duplicates(subset='Observation')\n",
    "\n",
    "# Remove 'Proposed Improvement'\n",
    "df = df[df['Type of reporting'] != 'Proposed Improvement']\n",
    "\n",
    "# Remove null or empty observations\n",
    "df = df[df['Observation'].notna() & (df['Observation'].str.strip() != '')]\n",
    "\n",
    "# Add Label column\n",
    "def assign_label(x):\n",
    "    if x == \"Re ACTIVE (Negative Observation)\" or x == \"Unsafe Act\":\n",
    "        return \"Unsafe\"\n",
    "    elif x == \"Pro ACTIVE (Positive Observation)\":\n",
    "        return \"Safe\"\n",
    "    else:\n",
    "        return \"\"\n",
    "\n",
    "df['Label'] = df['Type of reporting'].apply(assign_label)\n",
    "\n",
    "# Reset index\n",
    "df = df.reset_index(drop=True)\n",
    "\n",
    "# Summary info\n",
    "print(\"Total rows after cleaning:\", len(df))\n",
    "df.head()\n"
   ]
  },
  {
   "cell_type": "code",
   "execution_count": null,
   "id": "3f9fd7f4",
   "metadata": {},
   "outputs": [],
   "source": [
    "df.tail()"
   ]
  }
 ],
 "metadata": {},
 "nbformat": 4,
 "nbformat_minor": 5
}
